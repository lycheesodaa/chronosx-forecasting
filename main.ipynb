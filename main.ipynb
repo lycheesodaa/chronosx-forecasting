{
 "cells": [
  {
   "cell_type": "code",
   "execution_count": 1,
   "id": "3d47aa9a",
   "metadata": {},
   "outputs": [],
   "source": [
    "from chronosx_train_eval import *"
   ]
  },
  {
   "cell_type": "code",
   "execution_count": 2,
   "id": "c194e6c9",
   "metadata": {},
   "outputs": [
    {
     "name": "stdout",
     "output_type": "stream",
     "text": [
      "Successfully loaded data from /home/lianlian/models/uni2ts/data/demand_data_all_cleaned_featsel.csv\n",
      "Data shape: (61369, 8)\n",
      "Columns: ['actual', 'met', 'period', 'hour', 'tempC', 'heatIndexC', 'feelsLikeC', 'humidity']\n"
     ]
    }
   ],
   "source": [
    "time_series, past_covs, future_covs = load_data(\n",
    "    data_path=\"~/models/uni2ts/data/demand_data_all_cleaned_featsel.csv\",\n",
    "    target=\"actual\",\n",
    ")"
   ]
  },
  {
   "cell_type": "code",
   "execution_count": 3,
   "id": "f705be50",
   "metadata": {},
   "outputs": [
    {
     "data": {
      "text/plain": [
       "array([4939.7915, 4837.298 , 4751.866 , ..., 6248.124 , 6011.4326,\n",
       "       5831.5137], dtype=float32)"
      ]
     },
     "execution_count": 3,
     "metadata": {},
     "output_type": "execute_result"
    }
   ],
   "source": [
    "time_series"
   ]
  },
  {
   "cell_type": "code",
   "execution_count": 4,
   "id": "cf7da377",
   "metadata": {},
   "outputs": [
    {
     "data": {
      "text/plain": [
       "array([[4.8017e+03, 3.0000e+00, 0.0000e+00, ..., 2.9000e+01, 2.9000e+01,\n",
       "        8.4000e+01],\n",
       "       [4.7013e+03, 3.0000e+00, 1.0000e+00, ..., 2.9000e+01, 2.9000e+01,\n",
       "        8.4000e+01],\n",
       "       [4.6196e+03, 3.0000e+00, 2.0000e+00, ..., 2.9000e+01, 2.9000e+01,\n",
       "        8.5000e+01],\n",
       "       ...,\n",
       "       [6.1200e+03, 1.0000e+00, 2.2000e+01, ..., 2.8000e+01, 2.8000e+01,\n",
       "        7.6000e+01],\n",
       "       [5.8851e+03, 1.0000e+00, 2.3000e+01, ..., 2.7000e+01, 2.7000e+01,\n",
       "        7.9000e+01],\n",
       "       [5.7059e+03, 3.0000e+00, 0.0000e+00, ..., 2.7000e+01, 2.7000e+01,\n",
       "        8.1000e+01]], dtype=float32)"
      ]
     },
     "execution_count": 4,
     "metadata": {},
     "output_type": "execute_result"
    }
   ],
   "source": [
    "past_covs"
   ]
  },
  {
   "cell_type": "code",
   "execution_count": 5,
   "id": "2fb1758d",
   "metadata": {},
   "outputs": [],
   "source": [
    "future_covs"
   ]
  },
  {
   "cell_type": "code",
   "execution_count": 6,
   "id": "3834e7d1",
   "metadata": {},
   "outputs": [],
   "source": [
    "model_config = {\n",
    "    \"base_model_path\": \"amazon/chronos-t5-tiny\",  # or other supported models\n",
    "    \"model_type\": \"chronos\",\n",
    "    \"covariate_dim\": 5,\n",
    "    \"hidden_dim\": 256,\n",
    "    \"use_past_covariates\": True,\n",
    "    \"use_future_covariates\": False,\n",
    "    \"freeze_pretrained\": True,\n",
    "}\n",
    "\n",
    "training_config = {\n",
    "    \"learning_rate\": 1e-3,\n",
    "    \"batch_size\": 16,\n",
    "    \"num_epochs\": 50,\n",
    "    \"context_length\": 512,\n",
    "    \"prediction_length\": 72,\n",
    "    \"device\": \"cuda\" if torch.cuda.is_available() else \"cpu\",\n",
    "    \"save_dir\": \"./experiment_results\",\n",
    "    \n",
    "    \"patience\": 10,\n",
    "    \"num_eval_samples\": 50,\n",
    "}\n",
    "\n",
    "data_config = {\n",
    "    \"data_path\": '~/models/uni2ts/data/demand_data_all_cleaned_featsel.csv',\n",
    "    \"train_ratio\": 0.6,  # 60% training\n",
    "    \"val_ratio\": 0.2,   # 20% validation, 20% test (1 - 0.6 - 0.2 = 0.2)\n",
    "}"
   ]
  },
  {
   "cell_type": "code",
   "execution_count": 7,
   "id": "900b3ff5",
   "metadata": {},
   "outputs": [
    {
     "name": "stdout",
     "output_type": "stream",
     "text": [
      "Successfully loaded data from /home/lianlian/models/uni2ts/data/demand_data_all_cleaned_featsel.csv\n",
      "Data shape: (61369, 8)\n",
      "Columns: ['actual', 'met', 'period', 'hour', 'tempC', 'heatIndexC', 'feelsLikeC', 'humidity']\n"
     ]
    },
    {
     "name": "stderr",
     "output_type": "stream",
     "text": [
      "INFO:chronosx_train_eval:Starting training...\n",
      "INFO:chronosx_train_eval:Starting training for 50 epochs\n",
      "Training:   0%|          | 0/2265 [00:00<?, ?it/s]\n"
     ]
    },
    {
     "ename": "TypeError",
     "evalue": "BaseException.with_traceback() takes exactly one argument (0 given)",
     "output_type": "error",
     "traceback": [
      "\u001b[31m---------------------------------------------------------------------------\u001b[39m",
      "\u001b[31mRuntimeError\u001b[39m                              Traceback (most recent call last)",
      "\u001b[36mFile \u001b[39m\u001b[32m~/models/ChronosX/chronosx_train_eval.py:262\u001b[39m, in \u001b[36mAdaptedXModelTrainer.train_epoch\u001b[39m\u001b[34m(self)\u001b[39m\n\u001b[32m    260\u001b[39m \u001b[38;5;28;01mtry\u001b[39;00m:\n\u001b[32m    261\u001b[39m     \u001b[38;5;66;03m# Forward pass\u001b[39;00m\n\u001b[32m--> \u001b[39m\u001b[32m262\u001b[39m     outputs = \u001b[38;5;28;43mself\u001b[39;49m\u001b[43m.\u001b[49m\u001b[43mmodel\u001b[49m\u001b[43m(\u001b[49m\n\u001b[32m    263\u001b[39m \u001b[43m        \u001b[49m\u001b[43minput_data\u001b[49m\u001b[43m=\u001b[49m\u001b[43mbatch\u001b[49m\u001b[43m[\u001b[49m\u001b[33;43m\"\u001b[39;49m\u001b[33;43minput_data\u001b[39;49m\u001b[33;43m\"\u001b[39;49m\u001b[43m]\u001b[49m\u001b[43m,\u001b[49m\n\u001b[32m    264\u001b[39m \u001b[43m        \u001b[49m\u001b[43mmask\u001b[49m\u001b[43m=\u001b[49m\u001b[43mbatch\u001b[49m\u001b[43m[\u001b[49m\u001b[33;43m\"\u001b[39;49m\u001b[33;43mmask\u001b[39;49m\u001b[33;43m\"\u001b[39;49m\u001b[43m]\u001b[49m\u001b[43m,\u001b[49m\n\u001b[32m    265\u001b[39m \u001b[43m        \u001b[49m\u001b[43mpast_covariates\u001b[49m\u001b[43m=\u001b[49m\u001b[43mbatch\u001b[49m\u001b[43m[\u001b[49m\u001b[33;43m\"\u001b[39;49m\u001b[33;43mpast_covariates\u001b[39;49m\u001b[33;43m\"\u001b[39;49m\u001b[43m]\u001b[49m\u001b[43m,\u001b[49m\n\u001b[32m    266\u001b[39m \u001b[43m        \u001b[49m\u001b[43mfuture_covariates\u001b[49m\u001b[43m=\u001b[49m\u001b[43mbatch\u001b[49m\u001b[43m[\u001b[49m\u001b[33;43m\"\u001b[39;49m\u001b[33;43mfuture_covariates\u001b[39;49m\u001b[33;43m\"\u001b[39;49m\u001b[43m]\u001b[49m\u001b[43m,\u001b[49m\n\u001b[32m    267\u001b[39m \u001b[43m    \u001b[49m\u001b[43m)\u001b[49m\n\u001b[32m    269\u001b[39m     \u001b[38;5;66;03m# Compute loss\u001b[39;00m\n",
      "\u001b[36mFile \u001b[39m\u001b[32m~/models/Chronos/.venv/lib/python3.11/site-packages/torch/nn/modules/module.py:1751\u001b[39m, in \u001b[36mModule._wrapped_call_impl\u001b[39m\u001b[34m(self, *args, **kwargs)\u001b[39m\n\u001b[32m   1750\u001b[39m \u001b[38;5;28;01melse\u001b[39;00m:\n\u001b[32m-> \u001b[39m\u001b[32m1751\u001b[39m     \u001b[38;5;28;01mreturn\u001b[39;00m \u001b[38;5;28;43mself\u001b[39;49m\u001b[43m.\u001b[49m\u001b[43m_call_impl\u001b[49m\u001b[43m(\u001b[49m\u001b[43m*\u001b[49m\u001b[43margs\u001b[49m\u001b[43m,\u001b[49m\u001b[43m \u001b[49m\u001b[43m*\u001b[49m\u001b[43m*\u001b[49m\u001b[43mkwargs\u001b[49m\u001b[43m)\u001b[49m\n",
      "\u001b[36mFile \u001b[39m\u001b[32m~/models/Chronos/.venv/lib/python3.11/site-packages/torch/nn/modules/module.py:1762\u001b[39m, in \u001b[36mModule._call_impl\u001b[39m\u001b[34m(self, *args, **kwargs)\u001b[39m\n\u001b[32m   1759\u001b[39m \u001b[38;5;28;01mif\u001b[39;00m \u001b[38;5;129;01mnot\u001b[39;00m (\u001b[38;5;28mself\u001b[39m._backward_hooks \u001b[38;5;129;01mor\u001b[39;00m \u001b[38;5;28mself\u001b[39m._backward_pre_hooks \u001b[38;5;129;01mor\u001b[39;00m \u001b[38;5;28mself\u001b[39m._forward_hooks \u001b[38;5;129;01mor\u001b[39;00m \u001b[38;5;28mself\u001b[39m._forward_pre_hooks\n\u001b[32m   1760\u001b[39m         \u001b[38;5;129;01mor\u001b[39;00m _global_backward_pre_hooks \u001b[38;5;129;01mor\u001b[39;00m _global_backward_hooks\n\u001b[32m   1761\u001b[39m         \u001b[38;5;129;01mor\u001b[39;00m _global_forward_hooks \u001b[38;5;129;01mor\u001b[39;00m _global_forward_pre_hooks):\n\u001b[32m-> \u001b[39m\u001b[32m1762\u001b[39m     \u001b[38;5;28;01mreturn\u001b[39;00m \u001b[43mforward_call\u001b[49m\u001b[43m(\u001b[49m\u001b[43m*\u001b[49m\u001b[43margs\u001b[49m\u001b[43m,\u001b[49m\u001b[43m \u001b[49m\u001b[43m*\u001b[49m\u001b[43m*\u001b[49m\u001b[43mkwargs\u001b[49m\u001b[43m)\u001b[49m\n\u001b[32m   1764\u001b[39m result = \u001b[38;5;28;01mNone\u001b[39;00m\n",
      "\u001b[36mFile \u001b[39m\u001b[32m~/models/ChronosX/src/chronos/x_model.py:225\u001b[39m, in \u001b[36mAdaptedXModel.forward\u001b[39m\u001b[34m(self, input_data, mask, past_covariates, future_covariates, **kwargs)\u001b[39m\n\u001b[32m    224\u001b[39m \u001b[38;5;66;03m# Get initial embeddings\u001b[39;00m\n\u001b[32m--> \u001b[39m\u001b[32m225\u001b[39m embeddings, additional_info = \u001b[38;5;28;43mself\u001b[39;49m\u001b[43m.\u001b[49m\u001b[43mmodel_wrapper\u001b[49m\u001b[43m.\u001b[49m\u001b[43mget_input_embeddings\u001b[49m\u001b[43m(\u001b[49m\n\u001b[32m    226\u001b[39m \u001b[43m    \u001b[49m\u001b[43minput_data\u001b[49m\u001b[43m,\u001b[49m\u001b[43m \u001b[49m\u001b[43mmask\u001b[49m\u001b[43m=\u001b[49m\u001b[43mmask\u001b[49m\u001b[43m,\u001b[49m\u001b[43m \u001b[49m\u001b[43m*\u001b[49m\u001b[43m*\u001b[49m\u001b[43mkwargs\u001b[49m\n\u001b[32m    227\u001b[39m \u001b[43m\u001b[49m\u001b[43m)\u001b[49m\n\u001b[32m    229\u001b[39m \u001b[38;5;66;03m# Apply Input Injection Block if past covariates provided\u001b[39;00m\n",
      "\u001b[36mFile \u001b[39m\u001b[32m~/models/ChronosX/src/chronos/x_wrapper.py:94\u001b[39m, in \u001b[36mChronosWrapper.get_input_embeddings\u001b[39m\u001b[34m(self, input_data, **kwargs)\u001b[39m\n\u001b[32m     92\u001b[39m \u001b[38;5;66;03m# Tokenize using the Chronos tokenizer\u001b[39;00m\n\u001b[32m     93\u001b[39m token_ids, attention_mask, tokenizer_state = (\n\u001b[32m---> \u001b[39m\u001b[32m94\u001b[39m     \u001b[38;5;28;43mself\u001b[39;49m\u001b[43m.\u001b[49m\u001b[43mchronos_pipeline\u001b[49m\u001b[43m.\u001b[49m\u001b[43mtokenizer\u001b[49m\u001b[43m.\u001b[49m\u001b[43mcontext_input_transform\u001b[49m\u001b[43m(\u001b[49m\u001b[43mcontext_tensor\u001b[49m\u001b[43m)\u001b[49m\n\u001b[32m     95\u001b[39m )\n\u001b[32m     97\u001b[39m \u001b[38;5;66;03m# Move to model device\u001b[39;00m\n",
      "\u001b[36mFile \u001b[39m\u001b[32m~/models/Chronos/.venv/lib/python3.11/site-packages/chronos/chronos.py:224\u001b[39m, in \u001b[36mMeanScaleUniformBins.context_input_transform\u001b[39m\u001b[34m(self, context)\u001b[39m\n\u001b[32m    222\u001b[39m     context = context[..., -\u001b[38;5;28mself\u001b[39m.config.context_length :]\n\u001b[32m--> \u001b[39m\u001b[32m224\u001b[39m token_ids, attention_mask, scale = \u001b[38;5;28;43mself\u001b[39;49m\u001b[43m.\u001b[49m\u001b[43m_input_transform\u001b[49m\u001b[43m(\u001b[49m\u001b[43mcontext\u001b[49m\u001b[43m=\u001b[49m\u001b[43mcontext\u001b[49m\u001b[43m)\u001b[49m\n\u001b[32m    226\u001b[39m \u001b[38;5;28;01mif\u001b[39;00m \u001b[38;5;28mself\u001b[39m.config.use_eos_token \u001b[38;5;129;01mand\u001b[39;00m \u001b[38;5;28mself\u001b[39m.config.model_type == \u001b[33m\"\u001b[39m\u001b[33mseq2seq\u001b[39m\u001b[33m\"\u001b[39m:\n",
      "\u001b[36mFile \u001b[39m\u001b[32m~/models/Chronos/.venv/lib/python3.11/site-packages/chronos/chronos.py:189\u001b[39m, in \u001b[36mMeanScaleUniformBins._input_transform\u001b[39m\u001b[34m(self, context, scale)\u001b[39m\n\u001b[32m    187\u001b[39m scaled_context = context / scale.unsqueeze(dim=-\u001b[32m1\u001b[39m)\n\u001b[32m    188\u001b[39m token_ids = (\n\u001b[32m--> \u001b[39m\u001b[32m189\u001b[39m     \u001b[43mtorch\u001b[49m\u001b[43m.\u001b[49m\u001b[43mbucketize\u001b[49m\u001b[43m(\u001b[49m\n\u001b[32m    190\u001b[39m \u001b[43m        \u001b[49m\u001b[38;5;28;43minput\u001b[39;49m\u001b[43m=\u001b[49m\u001b[43mscaled_context\u001b[49m\u001b[43m,\u001b[49m\n\u001b[32m    191\u001b[39m \u001b[43m        \u001b[49m\u001b[43mboundaries\u001b[49m\u001b[43m=\u001b[49m\u001b[38;5;28;43mself\u001b[39;49m\u001b[43m.\u001b[49m\u001b[43mboundaries\u001b[49m\u001b[43m,\u001b[49m\n\u001b[32m    192\u001b[39m \u001b[43m        \u001b[49m\u001b[38;5;66;43;03m# buckets are open to the right, see:\u001b[39;49;00m\n\u001b[32m    193\u001b[39m \u001b[43m        \u001b[49m\u001b[38;5;66;43;03m# https://pytorch.org/docs/2.1/generated/torch.bucketize.html#torch-bucketize\u001b[39;49;00m\n\u001b[32m    194\u001b[39m \u001b[43m        \u001b[49m\u001b[43mright\u001b[49m\u001b[43m=\u001b[49m\u001b[38;5;28;43;01mTrue\u001b[39;49;00m\u001b[43m,\u001b[49m\n\u001b[32m    195\u001b[39m \u001b[43m    \u001b[49m\u001b[43m)\u001b[49m\n\u001b[32m    196\u001b[39m     + \u001b[38;5;28mself\u001b[39m.config.n_special_tokens\n\u001b[32m    197\u001b[39m )\n\u001b[32m    199\u001b[39m token_ids.clamp_(\u001b[32m0\u001b[39m, \u001b[38;5;28mself\u001b[39m.config.n_tokens - \u001b[32m1\u001b[39m)\n",
      "\u001b[31mRuntimeError\u001b[39m: Expected all tensors to be on the same device, but found at least two devices, cuda:0 and cpu! (when checking argument for argument boundaries in method wrapper_CUDA_Tensor_bucketize)",
      "\nDuring handling of the above exception, another exception occurred:\n",
      "\u001b[31mTypeError\u001b[39m                                 Traceback (most recent call last)",
      "\u001b[36mCell\u001b[39m\u001b[36m \u001b[39m\u001b[32mIn[7]\u001b[39m\u001b[32m, line 1\u001b[39m\n\u001b[32m----> \u001b[39m\u001b[32m1\u001b[39m results = \u001b[43mrun_full_experiment\u001b[49m\u001b[43m(\u001b[49m\u001b[43mmodel_config\u001b[49m\u001b[43m,\u001b[49m\u001b[43m \u001b[49m\u001b[43mtraining_config\u001b[49m\u001b[43m,\u001b[49m\u001b[43m \u001b[49m\u001b[43mdata_config\u001b[49m\u001b[43m)\u001b[49m\n\u001b[32m      3\u001b[39m \u001b[38;5;28mprint\u001b[39m(\u001b[33m\"\u001b[39m\u001b[38;5;130;01m\\n\u001b[39;00m\u001b[33mExperiment Results:\u001b[39m\u001b[33m\"\u001b[39m)\n\u001b[32m      4\u001b[39m \u001b[38;5;28mprint\u001b[39m(\u001b[33mf\u001b[39m\u001b[33m\"\u001b[39m\u001b[33mFinal Training Loss: \u001b[39m\u001b[38;5;132;01m{\u001b[39;00mresults[\u001b[33m'\u001b[39m\u001b[33mfinal_train_loss\u001b[39m\u001b[33m'\u001b[39m]\u001b[38;5;132;01m:\u001b[39;00m\u001b[33m.6f\u001b[39m\u001b[38;5;132;01m}\u001b[39;00m\u001b[33m\"\u001b[39m)\n",
      "\u001b[36mFile \u001b[39m\u001b[32m~/models/ChronosX/chronosx_train_eval.py:1046\u001b[39m, in \u001b[36mrun_full_experiment\u001b[39m\u001b[34m(model_config, training_config, data_config)\u001b[39m\n\u001b[32m   1044\u001b[39m \u001b[38;5;66;03m# Train model\u001b[39;00m\n\u001b[32m   1045\u001b[39m logger.info(\u001b[33m\"\u001b[39m\u001b[33mStarting training...\u001b[39m\u001b[33m\"\u001b[39m)\n\u001b[32m-> \u001b[39m\u001b[32m1046\u001b[39m \u001b[43mtrainer\u001b[49m\u001b[43m.\u001b[49m\u001b[43mtrain\u001b[49m\u001b[43m(\u001b[49m\u001b[43m)\u001b[49m\n\u001b[32m   1048\u001b[39m \u001b[38;5;66;03m# Evaluate model\u001b[39;00m\n\u001b[32m   1049\u001b[39m logger.info(\u001b[33m\"\u001b[39m\u001b[33mStarting evaluation...\u001b[39m\u001b[33m\"\u001b[39m)\n",
      "\u001b[36mFile \u001b[39m\u001b[32m~/models/ChronosX/chronosx_train_eval.py:333\u001b[39m, in \u001b[36mAdaptedXModelTrainer.train\u001b[39m\u001b[34m(self)\u001b[39m\n\u001b[32m    329\u001b[39m \u001b[38;5;28mself\u001b[39m.logger.info(\u001b[33mf\u001b[39m\u001b[33m\"\u001b[39m\u001b[33mStarting training for \u001b[39m\u001b[38;5;132;01m{\u001b[39;00m\u001b[38;5;28mself\u001b[39m.num_epochs\u001b[38;5;132;01m}\u001b[39;00m\u001b[33m epochs\u001b[39m\u001b[33m\"\u001b[39m)\n\u001b[32m    331\u001b[39m \u001b[38;5;28;01mfor\u001b[39;00m epoch \u001b[38;5;129;01min\u001b[39;00m \u001b[38;5;28mrange\u001b[39m(\u001b[38;5;28mself\u001b[39m.num_epochs):\n\u001b[32m    332\u001b[39m     \u001b[38;5;66;03m# Train\u001b[39;00m\n\u001b[32m--> \u001b[39m\u001b[32m333\u001b[39m     train_loss = \u001b[38;5;28;43mself\u001b[39;49m\u001b[43m.\u001b[49m\u001b[43mtrain_epoch\u001b[49m\u001b[43m(\u001b[49m\u001b[43m)\u001b[49m\n\u001b[32m    334\u001b[39m     \u001b[38;5;28mself\u001b[39m.train_losses.append(train_loss)\n\u001b[32m    336\u001b[39m     \u001b[38;5;66;03m# Validate\u001b[39;00m\n",
      "\u001b[36mFile \u001b[39m\u001b[32m~/models/ChronosX/chronosx_train_eval.py:288\u001b[39m, in \u001b[36mAdaptedXModelTrainer.train_epoch\u001b[39m\u001b[34m(self)\u001b[39m\n\u001b[32m    285\u001b[39m         progress_bar.set_postfix({\u001b[33m\"\u001b[39m\u001b[33mloss\u001b[39m\u001b[33m\"\u001b[39m: loss.item()})\n\u001b[32m    287\u001b[39m     \u001b[38;5;28;01mexcept\u001b[39;00m \u001b[38;5;167;01mException\u001b[39;00m \u001b[38;5;28;01mas\u001b[39;00m e:\n\u001b[32m--> \u001b[39m\u001b[32m288\u001b[39m         \u001b[38;5;28mself\u001b[39m.logger.error(\u001b[33mf\u001b[39m\u001b[33m\"\u001b[39m\u001b[33mError in training step: \u001b[39m\u001b[38;5;132;01m{\u001b[39;00m\u001b[43me\u001b[49m\u001b[43m.\u001b[49m\u001b[43mwith_traceback\u001b[49m\u001b[43m(\u001b[49m\u001b[43m)\u001b[49m\u001b[38;5;132;01m}\u001b[39;00m\u001b[33m\"\u001b[39m)\n\u001b[32m    289\u001b[39m         \u001b[38;5;28;01mcontinue\u001b[39;00m\n\u001b[32m    291\u001b[39m \u001b[38;5;28;01mreturn\u001b[39;00m epoch_loss / \u001b[38;5;28mmax\u001b[39m(num_batches, \u001b[32m1\u001b[39m)\n",
      "\u001b[31mTypeError\u001b[39m: BaseException.with_traceback() takes exactly one argument (0 given)"
     ]
    }
   ],
   "source": [
    "results = run_full_experiment(model_config, training_config, data_config)\n",
    "\n",
    "print(\"\\nExperiment Results:\")\n",
    "print(f\"Final Training Loss: {results['final_train_loss']:.6f}\")\n",
    "print(f\"Final Validation Loss: {results['final_val_loss']:.6f}\")\n",
    "print(f\"Best Validation Loss: {results['best_val_loss']:.6f}\")\n",
    "\n",
    "print(\"\\nTest Metrics:\")\n",
    "for metric, value in results[\"test_metrics\"].items():\n",
    "    print(f\"  {metric}: {value:.6f}\")"
   ]
  },
  {
   "cell_type": "code",
   "execution_count": null,
   "id": "beb96d9c",
   "metadata": {},
   "outputs": [],
   "source": [
    "# Example hyperparameter search\n",
    "param_grid = {\n",
    "    \"learning_rate\": [1e-4, 5e-4, 1e-3, 5e-3],\n",
    "    \"batch_size\": [8, 16, 32],\n",
    "    \"hidden_dim\": [128, 256, 512],\n",
    "}\n",
    "\n",
    "hp_results = hyperparameter_search(\n",
    "    base_model_config=model_config,\n",
    "    base_data_config=data_config,\n",
    "    param_grid=param_grid,\n",
    "    n_trials=5,\n",
    ")\n",
    "\n",
    "print(f\"\\nBest hyperparameters: {hp_results['best_config']}\")\n",
    "print(f\"Best validation loss: {hp_results['best_score']:.6f}\")\n"
   ]
  }
 ],
 "metadata": {
  "kernelspec": {
   "display_name": ".venv",
   "language": "python",
   "name": "python3"
  },
  "language_info": {
   "codemirror_mode": {
    "name": "ipython",
    "version": 3
   },
   "file_extension": ".py",
   "mimetype": "text/x-python",
   "name": "python",
   "nbconvert_exporter": "python",
   "pygments_lexer": "ipython3",
   "version": "3.11.9"
  }
 },
 "nbformat": 4,
 "nbformat_minor": 5
}
