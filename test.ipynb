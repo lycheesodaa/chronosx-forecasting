{
 "cells": [
  {
   "cell_type": "code",
   "execution_count": null,
   "id": "5166fa4b",
   "metadata": {},
   "outputs": [
    {
     "name": "stderr",
     "output_type": "stream",
     "text": [
      "/home/lianlian/models/Chronos/.venv/lib/python3.11/site-packages/tqdm/auto.py:21: TqdmWarning: IProgress not found. Please update jupyter and ipywidgets. See https://ipywidgets.readthedocs.io/en/stable/user_install.html\n",
      "  from .autonotebook import tqdm as notebook_tqdm\n"
     ]
    }
   ],
   "source": [
    "from src.chronos.chronos_bolt import ChronosBoltModelForForecasting\n",
    "from src.chronos.chronos_config import ChronosConfig\n",
    "\n",
    "config = ChronosConfig.from_pretrained(\"amazon/chronos-bolt-tiny\")\n",
    "model = ChronosBoltModelForForecasting.from_pretrained(\"amazon/chronos-bolt-tiny\")"
   ]
  },
  {
   "cell_type": "code",
   "execution_count": null,
   "id": "a6f6a521",
   "metadata": {},
   "outputs": [
    {
     "ename": "TypeError",
     "evalue": "PreTrainedModel.__init__() missing 1 required positional argument: 'config'",
     "output_type": "error",
     "traceback": [
      "\u001b[31m---------------------------------------------------------------------------\u001b[39m",
      "\u001b[31mTypeError\u001b[39m                                 Traceback (most recent call last)",
      "\u001b[36mCell\u001b[39m\u001b[36m \u001b[39m\u001b[32mIn[3]\u001b[39m\u001b[32m, line 3\u001b[39m\n\u001b[32m      1\u001b[39m \u001b[38;5;28;01mfrom\u001b[39;00m\u001b[38;5;250m \u001b[39m\u001b[34;01msrc\u001b[39;00m\u001b[34;01m.\u001b[39;00m\u001b[34;01mchronos\u001b[39;00m\u001b[34;01m.\u001b[39;00m\u001b[34;01mchronosx\u001b[39;00m\u001b[38;5;250m \u001b[39m\u001b[38;5;28;01mimport\u001b[39;00m ChronosBoltWrapper, ChronosXModel\n\u001b[32m----> \u001b[39m\u001b[32m3\u001b[39m wrapped_model = \u001b[43mChronosBoltWrapper\u001b[49m\u001b[43m(\u001b[49m\u001b[43mmodel\u001b[49m\u001b[43m)\u001b[49m\n\u001b[32m      5\u001b[39m \u001b[38;5;66;03m# Create ChronosX model\u001b[39;00m\n\u001b[32m      6\u001b[39m chronosx_bolt = ChronosXModel(\n\u001b[32m      7\u001b[39m     pretrained_model=wrapped_model,\n\u001b[32m      8\u001b[39m     covariate_dim=\u001b[32m5\u001b[39m,  \u001b[38;5;66;03m# number of covariates\u001b[39;00m\n\u001b[32m   (...)\u001b[39m\u001b[32m     13\u001b[39m     freeze_pretrained=\u001b[38;5;28;01mTrue\u001b[39;00m\n\u001b[32m     14\u001b[39m )\n",
      "\u001b[36mFile \u001b[39m\u001b[32m~/models/ChronosX/src/chronos/chronosx.py:177\u001b[39m, in \u001b[36mChronosBoltWrapper.__init__\u001b[39m\u001b[34m(self, chronos_bolt_model)\u001b[39m\n\u001b[32m    176\u001b[39m \u001b[38;5;28;01mdef\u001b[39;00m\u001b[38;5;250m \u001b[39m\u001b[34m__init__\u001b[39m(\u001b[38;5;28mself\u001b[39m, chronos_bolt_model):\n\u001b[32m--> \u001b[39m\u001b[32m177\u001b[39m     \u001b[38;5;28;43msuper\u001b[39;49m\u001b[43m(\u001b[49m\u001b[43m)\u001b[49m\u001b[43m.\u001b[49m\u001b[34;43m__init__\u001b[39;49m\u001b[43m(\u001b[49m\u001b[43m)\u001b[49m\n\u001b[32m    178\u001b[39m     \u001b[38;5;28mself\u001b[39m.chronos_bolt = chronos_bolt_model\n",
      "\u001b[31mTypeError\u001b[39m: PreTrainedModel.__init__() missing 1 required positional argument: 'config'"
     ]
    }
   ],
   "source": [
    "from src.chronos.chronosx import ChronosBoltWrapper, ChronosXModel\n",
    "\n",
    "wrapped_model = ChronosBoltWrapper(model)\n",
    "\n",
    "# Create ChronosX model\n",
    "chronosx_bolt = ChronosXModel(\n",
    "    pretrained_model=wrapped_model,\n",
    "    covariate_dim=5,  # number of covariates\n",
    "    d_model=model.config.d_model,\n",
    "    vocab_size=model.num_quantiles * model.chronos_config.prediction_length,\n",
    "    freeze_pretrained=True\n",
    ")"
   ]
  },
  {
   "cell_type": "code",
   "execution_count": null,
   "id": "ced6198f",
   "metadata": {},
   "outputs": [],
   "source": []
  }
 ],
 "metadata": {
  "kernelspec": {
   "display_name": ".venv",
   "language": "python",
   "name": "python3"
  },
  "language_info": {
   "codemirror_mode": {
    "name": "ipython",
    "version": 3
   },
   "file_extension": ".py",
   "mimetype": "text/x-python",
   "name": "python",
   "nbconvert_exporter": "python",
   "pygments_lexer": "ipython3",
   "version": "3.11.9"
  }
 },
 "nbformat": 4,
 "nbformat_minor": 5
}
